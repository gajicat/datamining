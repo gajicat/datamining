{
 "cells": [
  {
   "cell_type": "markdown",
   "metadata": {},
   "source": [
    "# 手把手教你构建CNN（一）\n",
    "\n",
    "感谢大家来我的网站学习https://www.captainbed.net\n",
    "\n",
    "\n",
    "欢迎来到智能视觉班的第一个实战编程！本次我们将用numpy库来实现卷积层和池化层，以及前向传播和反向传播。\n",
    "\n",
    "**提示**:\n",
    "- 上标 $[l]$ 表示属于第几层。 \n",
    "    - 例如: $a^{[4]}$ 表示第4层的激活值。 $W^{[5]}$ 和 $b^{[5]}$ 表示第5层的参数。\n",
    "\n",
    "- 上标 $(i)$ 表示第i个样本。 \n",
    "    - 例如: $x^{(i)}$表示第i个样本的输入特征。\n",
    "    \n",
    "    \n",
    "- 下标 $i$ 表示向量的第i个元素。\n",
    "    - 例如: $a^{[l]}_i$ 表示第l层的第i个激活值。\n",
    "    \n",
    "    \n",
    "- $n_H$, $n_W$ 和 $n_C$ 表示某一层相关矩阵的高，宽以及深度。如果你想指明第l层相关矩阵的高，宽和深度，那么你可以写成如下形式 $n_H^{[l]}$, $n_W^{[l]}$, $n_C^{[l]}$. \n",
    "- $n_{H_{prev}}$, $n_{W_{prev}}$ 和 $n_{C_{prev}}$ 表示前一层相关矩阵的高宽和深度。当然，如果你想表示l层前面一层的高宽深度，也可以写成如下形式 $n_H^{[l-1]}$, $n_W^{[l-1]}$, $n_C^{[l-1]}$。"
   ]
  },
  {
   "cell_type": "markdown",
   "metadata": {},
   "source": [
    "## 1 - 导入工具库"
   ]
  },
  {
   "cell_type": "code",
   "execution_count": 2,
   "metadata": {},
   "outputs": [],
   "source": [
    "import numpy as np\n",
    "import h5py\n",
    "import matplotlib.pyplot as plt\n",
    "\n",
    "%matplotlib inline\n",
    "plt.rcParams['figure.figsize'] = (5.0, 4.0) \n",
    "plt.rcParams['image.interpolation'] = 'nearest'\n",
    "plt.rcParams['image.cmap'] = 'gray'\n",
    "\n",
    "%load_ext autoreload\n",
    "%autoreload 2\n",
    "\n",
    "np.random.seed(1)"
   ]
  },
  {
   "cell_type": "markdown",
   "metadata": {},
   "source": [
    "## 2 - 概述\n",
    "\n",
    "在本次实战编程中我们将学会如何实现CNN相关的一些基本函数:\n",
    "\n",
    "- 卷积相关的函数:\n",
    "    - 零填补（Zero Padding）\n",
    "    - 卷积窗口(Convolve window )\n",
    "    - 前向卷积（Convolution forward）\n",
    "    - 反向卷积（Convolution backward）\n",
    "- 池化相关的函数:\n",
    "    - 前向池化（Pooling forward）\n",
    "    - 创建掩码（Create mask ）\n",
    "    - Distribute value\n",
    "    - 反向池化（Pooling backward）\n",
    "    \n",
    "本次实战编程我们会使用numpy库来手工实现这些函数。下一个实战编程我们会用TensorFlow，当然，TensorFlow中已经帮我们实现了这些函数，所以，下一个实战编程的重点在于调用这些函数来构建出下面的CNN。\n",
    "\n",
    "<img src=\"images/model.png\" style=\"width:800px;height:300px;\">"
   ]
  },
  {
   "cell_type": "markdown",
   "metadata": {},
   "source": [
    "## 3 - 卷积层\n",
    "\n",
    "卷积层会把一个矩阵转化成另一个不同尺寸的矩阵，如下图所示 \n",
    "\n",
    "<img src=\"images/conv_nn.png\" style=\"width:350px;height:200px;\">\n",
    "\n",
    "下面我们就来一步一步地实现卷积层。"
   ]
  },
  {
   "cell_type": "markdown",
   "metadata": {},
   "source": [
    "### 3.1 - 零填补（Zero-Padding）\n",
    "\n",
    "零填补就是往输入矩阵四周添加0,如下图所示:\n",
    "\n",
    "<img src=\"images/PAD.png\" style=\"width:600px;height:400px;\">\n",
    "<caption><center> <u> <font color='purple'> **图 1** </u><font color='purple'>  : **Zero-Padding**<br>上图的padding数量为2 </center></caption>\n",
    "\n",
    "padding的作用如下:\n",
    "\n",
    "- 它可以让我们既使用卷积层又可以避免矩阵的尺寸变得越来越小。对于很深的神经网络来说意义很大，因为如果不使用padding，那么每卷积一次矩阵尺寸就会变小，这样一来等到很深的网络层时，矩阵就没啦~ \n",
    "\n",
    "- 它有助于保留图像四周的信息。因为如果没有padding，那么图像四周的元素被卷积的次数就很少。"
   ]
  },
  {
   "cell_type": "code",
   "execution_count": 3,
   "metadata": {},
   "outputs": [],
   "source": [
    "def zero_pad(X, pad):\n",
    "    \"\"\"\n",
    "    给样本集X的所有样本进行零填补。\n",
    "    \n",
    "    参数:\n",
    "    X -- 样本集，维度是(m, n_H, n_W, n_C) ,\n",
    "         m表示样本的数量，这里的样本是图片数据，n_H, n_W, n_C表示图片的高，宽，深度。\n",
    "    pad -- 表示padding的个数，就是我们教程里说的p的数量。\n",
    "    \n",
    "    返回值:\n",
    "    X_pad -- 返回填补后的样本集。维度是(m, n_H + 2*pad, n_W + 2*pad, n_C),每张图片的四周都填补了pad个0\n",
    "    \"\"\"\n",
    "    \n",
    "    # np.pad是numpy提供的一个零填补函数，下面代码给X的n_H和n_W这两个维度填补pad个零。对m和n_C的维度不进行填补\n",
    "    # 例如第一组(pad, pad)表示给图像的上面和下面都填补pad个零。当然，上面和下面也可以填充不同数量的零。\n",
    "    X_pad = np.pad(X, ((0, 0), (pad, pad), (pad, pad), (0, 0)), 'constant', constant_values=0)\n",
    "    \n",
    "    return X_pad"
   ]
  },
  {
   "cell_type": "code",
   "execution_count": 4,
   "metadata": {},
   "outputs": [
    {
     "name": "stdout",
     "output_type": "stream",
     "text": [
      "x.shape = (4, 3, 3, 2)\n",
      "x_pad.shape = (4, 7, 7, 2)\n",
      "x[1, 1] = [[ 0.90085595 -0.68372786]\n",
      " [-0.12289023 -0.93576943]\n",
      " [-0.26788808  0.53035547]]\n",
      "x_pad[1, 1] = [[0. 0.]\n",
      " [0. 0.]\n",
      " [0. 0.]\n",
      " [0. 0.]\n",
      " [0. 0.]\n",
      " [0. 0.]\n",
      " [0. 0.]]\n"
     ]
    },
    {
     "data": {
      "text/plain": [
       "<matplotlib.image.AxesImage at 0x2800f38e630>"
      ]
     },
     "execution_count": 4,
     "metadata": {},
     "output_type": "execute_result"
    },
    {
     "data": {
      "image/png": "[encoded data removed]",
      "text/plain": [
       "<Figure size 432x288 with 2 Axes>"
      ]
     },
     "metadata": {
      "needs_background": "light"
     },
     "output_type": "display_data"
    }
   ],
   "source": [
    "# 单元测试\n",
    "np.random.seed(1)\n",
    "x = np.random.randn(4, 3, 3, 2)\n",
    "x_pad = zero_pad(x, 2)\n",
    "print (\"x.shape =\", x.shape)\n",
    "print (\"x_pad.shape =\", x_pad.shape)\n",
    "print (\"x[1, 1] =\", x[1, 1])\n",
    "print (\"x_pad[1, 1] =\", x_pad[1, 1])\n",
    "\n",
    "fig, axarr = plt.subplots(1, 2)\n",
    "axarr[0].set_title('x')\n",
    "axarr[0].imshow(x[0,:,:,0])\n",
    "axarr[1].set_title('x_pad')\n",
    "axarr[1].imshow(x_pad[0,:,:,0])"
   ]
  },
  {
   "cell_type": "markdown",
   "metadata": {},
   "source": [
    "### 3.2 - 单步卷积\n",
    "\n",
    "下面我们实现单步卷积函数。这个函数只卷积一步。后面我们将调用这个函数来完成对整个输入矩阵的卷积操作。如下图所示，卷积层会对输入矩阵进行很多步卷积。每卷积一步就会得出一个输出矩阵的元素。\n",
    "\n",
    "<img src=\"images/Convolution_schematic.gif\" style=\"width:500px;height:300px;\">\n",
    "<caption><center> <u> <font color='purple'> **图 2** </u><font color='purple'>  : **卷积**<br> 上面是一个3x3的过滤器，卷积步长是1 </center></caption>\n"
   ]
  },
  {
   "cell_type": "code",
   "execution_count": 5,
   "metadata": {},
   "outputs": [],
   "source": [
    "def conv_single_step(a_slice_prev, W, b):\n",
    "    \"\"\"\n",
    "    这个函数只执行一步卷积\n",
    "    \n",
    "    参数:\n",
    "    a_slice_prev -- 输入矩阵中的一小块数据，如上面的动图所示，过滤器每次只与矩阵中的一小块数据进行卷积。\n",
    "                 -- 这里的输入矩阵也就是上一层的输出矩阵。维度是(f, f, n_C_prev)\n",
    "    W -- 权重参数w。其实这里就是指过滤器。过滤器就是权重参数w。\n",
    "      -- 维度是(f, f, n_C_prev)，与a_slice_prev是一样的。因为是它俩进行卷积，所以维度肯定是一样的。\n",
    "    b -- 阈值b，教程中我们说过每一个过滤器会有一个对应的阈值。 维度是(1, 1, 1)\n",
    "    \n",
    "    返回值:\n",
    "    Z -- 卷积一步后得到的一个数值。这个数值将是输出矩阵中的一个元素。\n",
    "    \"\"\"\n",
    "\n",
    "    # 将a_slice_prev与W的每一个元素进行相乘\n",
    "    s = np.multiply(a_slice_prev, W) + b\n",
    "    # 将上面相乘的结果累加起来\n",
    "    Z = np.sum(s)\n",
    "\n",
    "    return Z"
   ]
  },
  {
   "cell_type": "code",
   "execution_count": 6,
   "metadata": {},
   "outputs": [
    {
     "name": "stdout",
     "output_type": "stream",
     "text": [
      "Z = -23.16021220252078\n"
     ]
    }
   ],
   "source": [
    "np.random.seed(1)\n",
    "a_slice_prev = np.random.randn(4, 4, 3)\n",
    "W = np.random.randn(4, 4, 3)\n",
    "b = np.random.randn(1, 1, 1)\n",
    "\n",
    "Z = conv_single_step(a_slice_prev, W, b)\n",
    "print(\"Z =\", Z)"
   ]
  },
  {
   "cell_type": "markdown",
   "metadata": {
    "collapsed": true
   },
   "source": [
    "### 3.3 - 前向传播\n",
    "\n",
    "我们可以使用多个过滤器。每个过滤器卷积之后都会得到一个二维的矩阵。然后我们会将这些二维的矩阵叠加起来成为多维的矩阵。如下面的短视频所示。视频中有2个过滤器。\n",
    "\n",
    "<center>\n",
    "<video width=\"620\" height=\"440\" src=\"images/conv_kiank.mp4\" type=\"video/mp4\" controls>\n",
    "</video>\n",
    "</center>\n",
    "\n",
    "\n",
    "**提示**: \n",
    "1. 在python中，通过开始索引和结束索引，可以获取数组中某一区域的元素。例如，如果你想获取一个(5,5,3)矩阵中的左上角的一个2x2的子矩阵，那么你可以使用下面的代码:\n",
    "```python\n",
    "a_slice_prev = a_prev[0:2,0:2,:]\n",
    "```\n",
    "在下面的函数中，我们会用这一语法来从输入矩阵中获取一小块数据来与过滤器进行卷积。\n",
    "2. 为了从矩阵中获取一个子矩阵（一小块数据），我们首先需要计算出子矩阵在母矩阵中的坐标，纵向开始索引`vert_start`, 纵向结束索引`vert_end`, 横向开始索引`horiz_start` 和横向结束索引 `horiz_end`。然后就可以用这些索引来定位一个子矩阵，如下图所示。\n",
    "\n",
    "<img src=\"images/vert_horiz_kiank.png\" style=\"width:400px;height:300px;\">\n",
    "<caption><center> <u> <font color='purple'> **图 3** </u><font color='purple'>  : **定位子矩阵** <br> </center></caption>\n",
    "\n",
    "\n",
    "函数中还会用到如下公式来计算输出矩阵的维度:\n",
    "$$ n_H = \\lfloor \\frac{n_{H_{prev}} - f + 2 \\times pad}{stride} \\rfloor +1 $$\n",
    "$$ n_W = \\lfloor \\frac{n_{W_{prev}} - f + 2 \\times pad}{stride} \\rfloor +1 $$\n",
    "$$ n_C = \\text{这个是过滤器的个数}$$"
   ]
  },
  {
   "cell_type": "code",
   "execution_count": 7,
   "metadata": {},
   "outputs": [],
   "source": [
    "def conv_forward(A_prev, W, b, hparameters):\n",
    "    \"\"\"\n",
    "    实现卷积网络的前向传播\n",
    "    \n",
    "    参数:\n",
    "    A_prev -- 本层的输入矩阵，也就是上一层的输出矩阵。维度是(m, n_H_prev, n_W_prev, n_C_prev)\n",
    "    W -- 权重，也就是过滤器。维度是 (f, f, n_C_prev, n_C)。后面的n_C表示过滤器的个数\n",
    "    b -- 阈值。维度是 (1, 1, 1, n_C)。一个过滤器配一个阈值。所以最后一维也是n_C\n",
    "    hparameters -- 超参数步长s和padding数p\n",
    "        \n",
    "    返回值:\n",
    "    Z -- 输出矩阵，也就是卷积结果。维度是(m, n_H, n_W, n_C)\n",
    "    cache -- 缓存一些数值，以供反向传播时用。\n",
    "    \"\"\"\n",
    "    \n",
    "    (m, n_H_prev, n_W_prev, n_C_prev) = A_prev.shape\n",
    "    \n",
    "    (f, f, n_C_prev, n_C) = W.shape\n",
    "\n",
    "    stride = hparameters['stride'] # 步长s\n",
    "    pad = hparameters['pad'] # 填补数量p\n",
    "    \n",
    "    # 计算输出矩阵的维度。参考上面提供的公式    \n",
    "    n_H = int((n_H_prev - f + 2 * pad) / stride) + 1 # 使用int()来实现向下取整\n",
    "    n_W = int((n_W_prev - f + 2 * pad) / stride) + 1\n",
    "    \n",
    "    # 初始化输出矩阵\n",
    "    Z = np.zeros((m, n_H, n_W, n_C))\n",
    "    \n",
    "    # 给输入矩阵进行padding填补0\n",
    "    A_prev_pad = zero_pad(A_prev, pad)\n",
    "    \n",
    "    for i in range(m):                                 # 遍历每一个样本\n",
    "        a_prev_pad = A_prev_pad[i]                     # 取出一个样本对应的输入矩阵\n",
    "        for h in range(n_H):                           # 遍历输出矩阵的高\n",
    "            for w in range(n_W):                       # 遍历输出矩阵的宽\n",
    "                for c in range(n_C):                   # 遍历每一个过滤器\n",
    "                    # 计算出输入矩阵中本次应该卷积的区域的索引，然后通过这些索引取出将被卷积的小块数据。\n",
    "                    vert_start = h * stride\n",
    "                    vert_end = vert_start + f\n",
    "                    horiz_start = w * stride\n",
    "                    horiz_end = horiz_start + f\n",
    "                    a_slice_prev = a_prev_pad[vert_start:vert_end, horiz_start:horiz_end, :]\n",
    "                    # 利用之前我们实现的conv_single_step函数来对这块数据进行卷积。\n",
    "                    Z[i, h, w, c] = conv_single_step(a_slice_prev, W[...,c], b[...,c])\n",
    "                                        \n",
    "    assert(Z.shape == (m, n_H, n_W, n_C))\n",
    " \n",
    "    cache = (A_prev, W, b, hparameters)\n",
    "    \n",
    "    return Z, cache"
   ]
  },
  {
   "cell_type": "code",
   "execution_count": 8,
   "metadata": {},
   "outputs": [
    {
     "name": "stdout",
     "output_type": "stream",
     "text": [
      "Z's mean = 0.15585932488906465\n",
      "cache_conv[0][1][2][3] = [-0.20075807  0.18656139  0.41005165]\n"
     ]
    }
   ],
   "source": [
    "np.random.seed(1)\n",
    "A_prev = np.random.randn(10, 4, 4, 3)\n",
    "W = np.random.randn(2, 2, 3, 8)\n",
    "b = np.random.randn(1, 1, 1, 8)\n",
    "hparameters = {\"pad\" : 2,\n",
    "               \"stride\": 1}\n",
    "\n",
    "Z, cache_conv = conv_forward(A_prev, W, b, hparameters)\n",
    "print(\"Z's mean =\", np.mean(Z))\n",
    "print(\"cache_conv[0][1][2][3] =\", cache_conv[0][1][2][3])"
   ]
  },
  {
   "cell_type": "markdown",
   "metadata": {},
   "source": [
    "下一篇文档我们继续学习如何实现池化层和反向传播！"
   ]
  }
 ],
 "metadata": {
  "coursera": {
   "course_slug": "convolutional-neural-networks",
   "graded_item_id": "qO8ng",
   "launcher_item_id": "7XDi8"
  },
  "kernelspec": {
   "display_name": "Python 3",
   "language": "python",
   "name": "python3"
  },
  "language_info": {
   "codemirror_mode": {
    "name": "ipython",
    "version": 3
   },
   "file_extension": ".py",
   "mimetype": "text/x-python",
   "name": "python",
   "nbconvert_exporter": "python",
   "pygments_lexer": "ipython3",
   "version": "3.5.6"
  }
 },
 "nbformat": 4,
 "nbformat_minor": 1
}
